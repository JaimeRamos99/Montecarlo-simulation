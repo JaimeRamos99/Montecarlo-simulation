{
  "nbformat": 4,
  "nbformat_minor": 0,
  "metadata": {
    "colab": {
      "name": "Montecarlo.ipynb",
      "provenance": [],
      "authorship_tag": "ABX9TyPybG6eb4Pm7o1coqPfQ4Hv",
      "include_colab_link": true
    },
    "kernelspec": {
      "name": "python3",
      "display_name": "Python 3"
    }
  },
  "cells": [
    {
      "cell_type": "markdown",
      "metadata": {
        "id": "view-in-github",
        "colab_type": "text"
      },
      "source": [
        "<a href=\"https://colab.research.google.com/github/JaimeRamos99/Montecarlo-simulation/blob/master/Montecarlo.ipynb\" target=\"_parent\"><img src=\"https://colab.research.google.com/assets/colab-badge.svg\" alt=\"Open In Colab\"/></a>"
      ]
    },
    {
      "cell_type": "markdown",
      "metadata": {
        "id": "hULLfaUwniEJ"
      },
      "source": [
        "# **Monte Carlo simulation**"
      ]
    },
    {
      "cell_type": "markdown",
      "metadata": {
        "id": "yjxIQ6UOnmgw"
      },
      "source": [
        "**Importing libraries**"
      ]
    },
    {
      "cell_type": "code",
      "metadata": {
        "id": "E-LHDefWnQ5E"
      },
      "source": [
        "import numpy as np\r\n",
        "from scipy.stats import uniform\r\n",
        "import matplotlib.pyplot as plt"
      ],
      "execution_count": null,
      "outputs": []
    },
    {
      "cell_type": "markdown",
      "metadata": {
        "id": "7NnnNWFIot72"
      },
      "source": [
        "**Function that simulates rolling a dice**"
      ]
    },
    {
      "cell_type": "code",
      "metadata": {
        "id": "ZxItJz9onuSu"
      },
      "source": [
        "def roll():\r\n",
        "  return uniform.rvs()"
      ],
      "execution_count": null,
      "outputs": []
    },
    {
      "cell_type": "markdown",
      "metadata": {
        "id": "1w3QfTLbnwlO"
      },
      "source": [
        "**Constants**"
      ]
    },
    {
      "cell_type": "code",
      "metadata": {
        "id": "xJlTy37_nvP_"
      },
      "source": [
        "x1 = np.arange(0,10000,100)\r\n",
        "entry = 10000\r\n",
        "bet = 100\r\n",
        "acum = 0;"
      ],
      "execution_count": null,
      "outputs": []
    },
    {
      "cell_type": "markdown",
      "metadata": {
        "id": "OkpDH8RXoZpJ"
      },
      "source": [
        "**Business logic**"
      ]
    },
    {
      "cell_type": "code",
      "metadata": {
        "id": "-KbOHcwVn7zu"
      },
      "source": [
        "y1 = []\r\n",
        "for i in range(0,10000,100):\r\n",
        "  amnt = entry\r\n",
        "  for j in range(i):\r\n",
        "    value = roll()\r\n",
        "    if value <= 0.51:\r\n",
        "      amnt = amnt - bet\r\n",
        "    else:\r\n",
        "      amnt = amnt + bet\r\n",
        "  y1.append(amnt)"
      ],
      "execution_count": null,
      "outputs": []
    },
    {
      "cell_type": "code",
      "metadata": {
        "colab": {
          "base_uri": "https://localhost:8080/",
          "height": 296
        },
        "id": "EiTsa1PJoA7a",
        "outputId": "887daa36-2dea-464f-d452-f8f69766ef4a"
      },
      "source": [
        "fig, ax = plt.subplots(1, 1)\r\n",
        "ax.set_xlabel(\"Numero de apuestas\")\r\n",
        "ax.set_ylabel(\"Dinero restante\")\r\n",
        "ax.plot(x1, y1, 'co', ms=8)"
      ],
      "execution_count": null,
      "outputs": [
        {
          "output_type": "execute_result",
          "data": {
            "text/plain": [
              "[<matplotlib.lines.Line2D at 0x7f6f320ce0f0>]"
            ]
          },
          "metadata": {
            "tags": []
          },
          "execution_count": 5
        },
        {
          "output_type": "display_data",
          "data": {
            "image/png": "[encoded data removed]",
            "text/plain": [
              "<Figure size 432x288 with 1 Axes>"
            ]
          },
          "metadata": {
            "tags": [],
            "needs_background": "light"
          }
        }
      ]
    },
    {
      "cell_type": "markdown",
      "metadata": {
        "id": "n9HZpp4HoEWD"
      },
      "source": [
        "### **Can a player lose everything?**"
      ]
    },
    {
      "cell_type": "markdown",
      "metadata": {
        "id": "enQWoBXMoIAL"
      },
      "source": [
        "**Sure yes!** Because the *Host* has a slighlty bigger probability of winning. But also due to that slightliness it will take a lot of iterations(bets) to lose all the money. It can be appreciated in the graph above.\r\n",
        "Also we can conclude that after a lot of games it is more feasible to lose all the money.\r\n",
        "Fun fact: Base on this analysis we can explain the \"beginners luck\", because the first times, we have some possibility of winning but then we might start to feel less money in our pocket"
      ]
    }
  ]
}